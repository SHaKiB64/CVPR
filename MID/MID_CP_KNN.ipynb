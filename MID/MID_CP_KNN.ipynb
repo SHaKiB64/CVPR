import numpy as np
import pandas as pd
import matplotlib.pyplot as plt
import cv2 as cv
import os
from tqdm import tqdm
import random
train_directory=r'C:\Users\exsa1\Downloads\CIFAR-10-images-master\train'
sample_names=[]
for i in os.listdir(train_directory):
    sample_names.append(i)
print(sample_names)
train_data=[]
for i in sample_names:
    path=os.path.join(train_directory,i)
    classes=sample_names.index(i)
    for img in tqdm(os.listdir(path)):
        img_array=cv.imread(os.path.join(path,img))
        train_data.append([img_array,classes])
print(len(train_data))
